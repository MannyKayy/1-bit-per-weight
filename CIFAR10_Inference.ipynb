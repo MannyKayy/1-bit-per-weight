{
 "cells": [
  {
   "cell_type": "markdown",
   "metadata": {},
   "source": [
    "# Tensorflow.keras inference implementation of one-bit-per-weight CNN for CIFAR 10 \n",
    "##  https://arxiv.org/abs/1802.08530\n",
    "## M. D. McDonnell, \n",
    "## Training wide residual networks for deployment using a single bit for each weight\n",
    "## ICLR, 2018"
   ]
  },
  {
   "cell_type": "code",
   "execution_count": 1,
   "metadata": {},
   "outputs": [
    {
     "name": "stdout",
     "output_type": "stream",
     "text": [
      "Tensorflow version =  1.13.1\n"
     ]
    }
   ],
   "source": [
    "# select a GPU\n",
    "import os\n",
    "os.environ[\"CUDA_DEVICE_ORDER\"] = 'PCI_BUS_ID'\n",
    "os.environ[\"CUDA_VISIBLE_DEVICES\"] = '0'\n",
    "\n",
    "import numpy as np\n",
    "import matplotlib.pyplot as plt\n",
    "from scipy.io import loadmat\n",
    "import warnings\n",
    "warnings.filterwarnings('ignore',category=FutureWarning)\n",
    "\n",
    "import tensorflow\n",
    "print('Tensorflow version = ',tensorflow.__version__)\n",
    "from tensorflow.keras.optimizers import SGD\n",
    "from ResNetModel import resnet"
   ]
  },
  {
   "cell_type": "code",
   "execution_count": 2,
   "metadata": {},
   "outputs": [],
   "source": [
    "#params\n",
    "WhichDataSet = 'CIFAR10'\n",
    "#WhichDataSet = 'CIFAR100'\n",
    "resnet_width = 10\n",
    "resnet_depth = 20\n",
    "ModelsPath = 'TrainedModels/Tensorflow.keras/'"
   ]
  },
  {
   "cell_type": "code",
   "execution_count": 3,
   "metadata": {},
   "outputs": [],
   "source": [
    "#load and prepare data\n",
    "if WhichDataSet == 'CIFAR10':\n",
    "    _, (x_test, y_test) = tensorflow.keras.datasets.cifar10.load_data()\n",
    "else:\n",
    "    _, (x_test, y_test) = tensorflow.keras.datasets.cifar100.load_data()\n",
    "num_classes = np.unique(y_test).shape[0]\n",
    "input_shape = x_test.shape[1:]\n",
    "x_test = x_test.astype('float32')\n",
    "y_test = tensorflow.keras.utils.to_categorical(y_test, num_classes)\n"
   ]
  },
  {
   "cell_type": "code",
   "execution_count": 4,
   "metadata": {},
   "outputs": [
    {
     "name": "stdout",
     "output_type": "stream",
     "text": [
      "WARNING:tensorflow:From /home/mdmcdonn/anaconda3/envs/April2019/lib/python3.6/site-packages/tensorflow/python/ops/resource_variable_ops.py:435: colocate_with (from tensorflow.python.framework.ops) is deprecated and will be removed in a future version.\n",
      "Instructions for updating:\n",
      "Colocations handled automatically by placer.\n"
     ]
    }
   ],
   "source": [
    "#create an inference model that uses regular conv2d layers\n",
    "inference_model = resnet(UseBinaryWeights=False,input_shape=input_shape, depth=resnet_depth, num_classes=num_classes,wd=0.0,width=resnet_width)\n",
    "#need to compile: we are forced to set the optimizr etc, even though it won't be use\n",
    "inference_model.compile(loss='categorical_crossentropy' ,optimizer = SGD(lr=0.0,decay=0.0, momentum=0.9, nesterov=False), metrics = ['accuracy'])\n"
   ]
  },
  {
   "cell_type": "code",
   "execution_count": 5,
   "metadata": {},
   "outputs": [
    {
     "name": "stdout",
     "output_type": "stream",
     "text": [
      "conv layer  0  has  2  unique weights\n",
      "conv layer  1  has  2  unique weights\n",
      "conv layer  2  has  2  unique weights\n",
      "conv layer  3  has  2  unique weights\n",
      "conv layer  4  has  2  unique weights\n",
      "conv layer  5  has  2  unique weights\n",
      "conv layer  6  has  2  unique weights\n",
      "conv layer  7  has  2  unique weights\n",
      "conv layer  8  has  2  unique weights\n",
      "conv layer  9  has  2  unique weights\n",
      "conv layer  10  has  2  unique weights\n",
      "conv layer  11  has  2  unique weights\n",
      "conv layer  12  has  2  unique weights\n",
      "conv layer  13  has  2  unique weights\n",
      "conv layer  14  has  2  unique weights\n",
      "conv layer  15  has  2  unique weights\n",
      "conv layer  16  has  2  unique weights\n",
      "conv layer  17  has  2  unique weights\n",
      "conv layer  18  has  2  unique weights\n",
      "conv layer  19  has  2  unique weights\n",
      "One-bit-per-weight Test accuracy (%): 96.25\n"
     ]
    }
   ],
   "source": [
    "#verify each layer can take only two values:\n",
    "#verify get the right results from compressed boolean storage\n",
    "AllParamsDict_loaded=loadmat(ModelsPath+WhichDataSet+'_allparams.mat')\n",
    "conv_names=[m for m in list(AllParamsDict_loaded.keys()) if any(s in m for s in ['conv2d'])]\n",
    "bn_names=[m for m in list(AllParamsDict_loaded.keys()) if any(s in m for s in ['batch'])]\n",
    "\n",
    "c1=0\n",
    "c2=0\n",
    "for layer in inference_model.layers:\n",
    "    if 'conv2d' in layer.name:\n",
    "        ww=AllParamsDict_loaded[conv_names[c1]].astype('float32')*2.0-1.0\n",
    "        ww=ww*np.sqrt(2.0/np.prod(ww[0].shape[0:3]))\n",
    "        layer.set_weights([ww[0]])\n",
    "        uw = np.unique(ww)\n",
    "        print('conv layer ',c1,' has ', len(uw),' unique weights')\n",
    "        c1=c1+1\n",
    "    elif 'batch_normalization' in layer.name:\n",
    "        ww=AllParamsDict_loaded[bn_names[c2]]\n",
    "        layer.set_weights(ww)\n",
    "        c2=c2+1\n",
    "\n",
    "#get accuracy:\n",
    "y_pred = inference_model.predict(x_test)\n",
    "print('One-bit-per-weight Test accuracy (%):', 100*sum(np.argmax(y_pred,-1)==np.argmax(y_test,-1))/y_test.shape[0])"
   ]
  },
  {
   "cell_type": "code",
   "execution_count": 6,
   "metadata": {},
   "outputs": [
    {
     "name": "stdout",
     "output_type": "stream",
     "text": [
      "Full Precision Test accuracy (%): 96.65\n"
     ]
    }
   ],
   "source": [
    "#Compare with full precision model\n",
    "inference_model = resnet(UseBinaryWeights=False,input_shape=input_shape, depth=resnet_depth, num_classes=num_classes,wd=0.0,width=resnet_width)\n",
    "inference_model.compile(loss='categorical_crossentropy' ,optimizer = SGD(lr=0.0,decay=0.0, momentum=0.9, nesterov=False), metrics = ['accuracy'])\n",
    "inference_model.load_weights(ModelsPath+'Final_weights_'+WhichDataSet+'_32bit_model_v2.h5')\n",
    "y_pred = inference_model.predict(x_test)\n",
    "print('Full Precision Test accuracy (%):', 100*sum(np.argmax(y_pred,-1)==np.argmax(y_test,-1))/y_test.shape[0])"
   ]
  },
  {
   "cell_type": "code",
   "execution_count": null,
   "metadata": {},
   "outputs": [],
   "source": []
  }
 ],
 "metadata": {
  "kernelspec": {
   "display_name": "Python 3",
   "language": "python",
   "name": "python3"
  },
  "language_info": {
   "codemirror_mode": {
    "name": "ipython",
    "version": 3
   },
   "file_extension": ".py",
   "mimetype": "text/x-python",
   "name": "python",
   "nbconvert_exporter": "python",
   "pygments_lexer": "ipython3",
   "version": "3.6.8"
  }
 },
 "nbformat": 4,
 "nbformat_minor": 2
}
